{
 "cells": [
  {
   "cell_type": "code",
   "execution_count": 1,
   "metadata": {},
   "outputs": [],
   "source": [
    "import pandas as pd\n",
    "\n",
    "data = pd.read_csv(\"../data/nfl_game_stats.csv\")"
   ]
  },
  {
   "cell_type": "code",
   "execution_count": 2,
   "metadata": {},
   "outputs": [
    {
     "name": "stdout",
     "output_type": "stream",
     "text": [
      "Mean Absolute Error: 0.19687183811129852\n"
     ]
    }
   ],
   "source": [
    "from sklearn.model_selection import train_test_split\n",
    "from sklearn.ensemble import RandomForestRegressor\n",
    "from sklearn.metrics import mean_absolute_error\n",
    "\n",
    "data['total_points'] = data['score_away'] + data['score_home']\n",
    "\n",
    "features = data[['score_away', 'score_home', 'redzone_att_away', 'redzone_att_home',\n",
    "                 'fumbles_away', 'fumbles_home', 'interceptions_away', 'interceptions_home']]\n",
    "target = data['total_points']\n",
    "X_train, X_test, y_train, y_test = train_test_split(features, target, test_size=0.2, random_state=42)\n",
    "\n",
    "model = RandomForestRegressor(random_state=42, n_estimators=100)\n",
    "model.fit(X_train, y_train)\n",
    "\n",
    "predictions = model.predict(X_test)\n",
    "mae = mean_absolute_error(y_test, predictions)\n",
    "print(f'Mean Absolute Error: {mae}')\n",
    "\n"
   ]
  },
  {
   "cell_type": "code",
   "execution_count": 3,
   "metadata": {},
   "outputs": [
    {
     "name": "stdout",
     "output_type": "stream",
     "text": [
      "The total of Lions vs. Eagles would be: 46.03\n"
     ]
    },
    {
     "name": "stderr",
     "output_type": "stream",
     "text": [
      "/Library/Frameworks/Python.framework/Versions/3.11/lib/python3.11/site-packages/sklearn/base.py:493: UserWarning: X does not have valid feature names, but RandomForestRegressor was fitted with feature names\n",
      "  warnings.warn(\n"
     ]
    }
   ],
   "source": [
    "def get_projected_total_points(away_team, home_team):\n",
    "    away_team = away_team.lower()\n",
    "    home_team = home_team.lower()\n",
    "\n",
    "    filtered_data = data[(data['away'].str.lower() == away_team) | (data['home'].str.lower() == away_team) |\n",
    "                         (data['away'].str.lower() == home_team) | (data['home'].str.lower() == home_team)]\n",
    "\n",
    "    if filtered_data.empty:\n",
    "        return f\"No data found for the teams: {away_team} or {home_team}.\"\n",
    "\n",
    "    input_features = filtered_data[['score_away', 'score_home', 'redzone_att_away', 'redzone_att_home',\n",
    "                                    'fumbles_away', 'fumbles_home', 'interceptions_away', 'interceptions_home']].mean()\n",
    "    input_features = input_features.values.reshape(1, -1)\n",
    "\n",
    "    projected_total_points = model.predict(input_features)[0]\n",
    "    return projected_total_points\n",
    "away_team = input(\"Enter the away team: \").capitalize()\n",
    "home_team = input(\"Enter the home team: \").capitalize()\n",
    "\n",
    "result = get_projected_total_points(away_team, home_team)\n",
    "\n",
    "\n",
    "print(f\"The total of {away_team} vs. {home_team} would be: {result:.2f}\")"
   ]
  }
 ],
 "metadata": {
  "kernelspec": {
   "display_name": ".venv",
   "language": "python",
   "name": "python3"
  },
  "language_info": {
   "codemirror_mode": {
    "name": "ipython",
    "version": 3
   },
   "file_extension": ".py",
   "mimetype": "text/x-python",
   "name": "python",
   "nbconvert_exporter": "python",
   "pygments_lexer": "ipython3",
   "version": "3.11.8"
  }
 },
 "nbformat": 4,
 "nbformat_minor": 2
}
